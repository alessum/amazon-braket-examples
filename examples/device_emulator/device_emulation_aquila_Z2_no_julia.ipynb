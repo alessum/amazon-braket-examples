{
 "cells": [
  {
   "cell_type": "code",
   "execution_count": 1,
   "id": "645f2429-3489-4722-abf6-2e61963c02a6",
   "metadata": {
    "tags": []
   },
   "outputs": [],
   "source": [
    "# %pip uninstall -y amazon-braket-default-simulator\n",
    "# %pip uninstall -y amazon-braket-sdk\n",
    "# %pip install git+https://github.com/amazon-braket/amazon-braket-default-simulator-python.git@5b8020915bf02a4f4448b430f917c9155d61d24a\n",
    "# %pip install git+https://github.com/Altanali/amazon-braket-sdk-python.git@72da648c1a2bfdc421622f5ddfd3c8ce9c7686b6"
   ]
  },
  {
   "cell_type": "code",
   "execution_count": 3,
   "id": "f1197b4d-c4a3-44a7-a6eb-aa88b85ddad6",
   "metadata": {
    "tags": []
   },
   "outputs": [
    {
     "name": "stdout",
     "output_type": "stream",
     "text": [
      "amazon-braket-default-simulator @ git+https://github.com/amazon-braket/amazon-braket-default-simulator-python.git@5b8020915bf02a4f4448b430f917c9155d61d24a\n",
      "amazon-braket-schemas==1.22.0\n",
      "amazon-braket-sdk @ git+https://github.com/Altanali/amazon-braket-sdk-python.git@72da648c1a2bfdc421622f5ddfd3c8ce9c7686b6\n",
      "Note: you may need to restart the kernel to use updated packages.\n"
     ]
    }
   ],
   "source": [
    "pip freeze | grep amazon"
   ]
  },
  {
   "cell_type": "code",
   "execution_count": 4,
   "id": "6a6c60cc-ea2c-485d-875d-69c44e882ea7",
   "metadata": {
    "tags": []
   },
   "outputs": [],
   "source": [
    "# It should output\n",
    "# amazon-braket-default-simulator @ git+https://github.com/amazon-braket/amazon-braket-default-simulator-python.git@5b8020915bf02a4f4448b430f917c9155d61d24a\n",
    "# amazon-braket-schemas==1.22.0\n",
    "# amazon-braket-sdk @ git+https://github.com/Altanali/amazon-braket-sdk-python.git@72da648c1a2bfdc421622f5ddfd3c8ce9c7686b6"
   ]
  },
  {
   "cell_type": "markdown",
   "id": "9f82bf0f",
   "metadata": {},
   "source": [
    "# Ordered phases in Rydberg systems\n",
    "\n",
    "In this example notebook, we show how one can prepare ordered phases in Rydberg systems, focusing on the 1D $Z_2$ phase and the 2D checkerboard phase. We will use an adiabatic time-evolution to prepare these many-body ground states.\n",
    "\n",
    "## Adiabatic evolution\n",
    "\n",
    "The adiabatic theorem of quantum mechanics states that \n",
    "\n",
    ">A physical system remains in its *instantaneous* eigenstate if a given perturbation is acting on it slowly enough and if there is a gap between the eigenvalue and the rest of the Hamiltonian's spectrum. (Born & Fock, 1928)\n",
    "\n",
    "In other words, a slow-enough change in the parameters of the Hamiltonian will not induce transitions between its ground state and excited states: If the system starts in the ground state of the Hamiltonian at the beginning, it will smoothly transition into the ground state of the Hamiltonian at the end.\n",
    "\n",
    "The adiabatic theorem plays a key role in preparing the desired many-body ground states in the Rydberg system, the Hamiltonian of which can be expressed as\n",
    "\n",
    "\\begin{align}\n",
    "H(t) = \\sum_{k=1}^N \\frac{\\Omega(t)}{2}\\left(|g_k\\rangle\\langle r_k| + |r_k\\rangle\\langle g_k|\\right) - \\Delta_\\text{global}(t){n}_k + \\sum_{j=1}^{N-1}\\sum_{k=j+1}^N V_{jk}{n}_j{n}_k,\n",
    "\\end{align}\n",
    "\n",
    "where, for simplicity, we set the phase and the local detuning field (See notebook 00 for detailed description of this Hamiltonian) to be zero throughout this notebook. We schedule the driving amplitude $\\Omega(t)$ to start from zero ($\\Omega(t=0)=0$). Hence, with negative detuning ($\\Delta_\\text{global}(t=0)<0$), the initial state where all atoms are in the ground state ($\\langle n_k\\rangle =0$) is the lowest energy eigenstate of the Hamiltonian, the many-body ground state.\n",
    "\n",
    "To arrive at a target Hamiltonian where the excited states of the atoms are favored, we ramp up the detuning $\\Delta_\\text{global}$ from large negative to large positive. During the ramp, we apply a large driving amplitude $\\Omega$ to open an energy gap between the first excited state and the ground state. According to the adiabatic theorem, if the ramping is slow enough, the system remains in the many-body ground state throughout the evolution. At the end of the AHS program, the Rabi frequency will be turned off and since $\\Delta_\\text{global}>0$, all the atoms tend to stay in the Rydberg state to lower the energy of the system. However, due to the strong Rydberg interaction, only one atom can be excited to the Rydberg state within its blockade radius.\n",
    "\n",
    "For a 1D chain of atoms, if we adjust the separation between the atoms such that only neighboring atoms are within the blockade radius, then we will arrive at a state where every second atom is excited, this is called the \"$Z_2$ phase\". For a 2D square array of atoms, a similar \"checkerboard phase\" emerges. The common feature of these phases is that the atoms are excited to the Rydberg states in an alternative pattern, complying with the blockade constraint, as shown in the figure below. In the figure, the shaded circles show *half* of the blockade radius such that sites with overlapped circles blockade each other. We show configurations, with black and white sites represent Rydberg and ground state atoms respectively, that comply with the blockade constraint. \n",
    "\n",
    "![Blockade_examples.png](Blockade_examples.png)\n",
    "\n",
    "We will realize these phases in this notebook. To begin, we import the necessary packages."
   ]
  },
  {
   "cell_type": "code",
   "execution_count": 5,
   "id": "08909afa",
   "metadata": {
    "ExecuteTime": {
     "end_time": "2023-08-29T21:43:08.515925Z",
     "start_time": "2023-08-29T21:43:06.116118Z"
    },
    "tags": []
   },
   "outputs": [],
   "source": [
    "import numpy as np\n",
    "import matplotlib.pyplot as plt\n",
    "\n",
    "from braket.ahs.atom_arrangement import AtomArrangement\n",
    "\n",
    "from braket.ahs.analog_hamiltonian_simulation import AnalogHamiltonianSimulation\n",
    "from braket.ahs.driving_field import DrivingField\n",
    "\n",
    "from ahs_utils import show_register, show_global_drive, show_final_avg_density\n",
    "\n",
    "from braket.devices import LocalSimulator"
   ]
  },
  {
   "cell_type": "markdown",
   "id": "5b5eee4d",
   "metadata": {},
   "source": [
    "## 1D $Z_2$ phase \n",
    "\n",
    "Here we consider a 1D chain of 9 atoms with neighboring atoms separated by $6.1\\mu m$. The setup of the system can be generated as follows"
   ]
  },
  {
   "cell_type": "code",
   "execution_count": 6,
   "id": "6702f2b8",
   "metadata": {
    "ExecuteTime": {
     "end_time": "2023-08-29T21:43:08.726486Z",
     "start_time": "2023-08-29T21:43:08.517068Z"
    },
    "tags": []
   },
   "outputs": [
    {
     "data": {
      "image/png": "[encoded data removed]",
      "text/plain": [
       "<Figure size 504x504 with 1 Axes>"
      ]
     },
     "metadata": {
      "needs_background": "light"
     },
     "output_type": "display_data"
    }
   ],
   "source": [
    "register = AtomArrangement()\n",
    "separation = 6.1e-6  # in meters \n",
    "num_atoms = 9\n",
    "\n",
    "for k in range(num_atoms):\n",
    "    register.add([k * separation, 0])\n",
    "    \n",
    "show_register(register)"
   ]
  },
  {
   "cell_type": "markdown",
   "id": "33174b8a",
   "metadata": {},
   "source": [
    "In order to prepare the $Z_2$ ordered state for the atomic chain, we shall design an AHS program that drives the system adiabatically. As described above, we start from $\\Omega(t=0)=0$ with $\\Delta(t=0)<0$, followed by turning on $\\Omega(t)$ and ramping up $\\Delta(t)$. We will turn off the driving amplitude at the end of the program. This program can be specified as follows."
   ]
  },
  {
   "cell_type": "code",
   "execution_count": 7,
   "id": "12184869",
   "metadata": {
    "ExecuteTime": {
     "end_time": "2023-08-29T21:43:08.726631Z",
     "start_time": "2023-08-29T21:43:08.719473Z"
    },
    "tags": []
   },
   "outputs": [],
   "source": [
    "time_points = [0, 2.5e-7, 2.75e-6, 3e-6]\n",
    "amplitude_min = 0\n",
    "amplitude_max = 1.57e7  # rad / s\n",
    "\n",
    "detuning_min = -5.5e7  # rad / s\n",
    "detuning_max = 5.5e7  # rad / s\n",
    "\n",
    "amplitude_values = [amplitude_min, amplitude_max, amplitude_max, amplitude_min]  # piecewise linear\n",
    "detuning_values = [detuning_min, detuning_min, detuning_max, detuning_max]  # piecewise linear\n",
    "phase_values = [0, 0, 0, 0]  # piecewise constant\n",
    "\n",
    "\n",
    "drive = DrivingField.from_lists(time_points, amplitude_values, detuning_values, phase_values)"
   ]
  },
  {
   "cell_type": "markdown",
   "id": "ee92d637",
   "metadata": {},
   "source": [
    "We can plot the waveforms of these driving fields to make sure that they are correctly specified."
   ]
  },
  {
   "cell_type": "code",
   "execution_count": 8,
   "id": "e8d369e3",
   "metadata": {
    "ExecuteTime": {
     "end_time": "2023-08-29T21:43:09.288470Z",
     "start_time": "2023-08-29T21:43:08.729040Z"
    },
    "tags": []
   },
   "outputs": [
    {
     "data": {
      "image/png": "[encoded data removed]",
      "text/plain": [
       "<Figure size 504x504 with 3 Axes>"
      ]
     },
     "metadata": {
      "needs_background": "light"
     },
     "output_type": "display_data"
    }
   ],
   "source": [
    "show_global_drive(drive);"
   ]
  },
  {
   "cell_type": "markdown",
   "id": "ecd5fce7",
   "metadata": {},
   "source": [
    "Finally, we construct out AHS program from the atomic registers, and the Hamiltonian defined above. "
   ]
  },
  {
   "cell_type": "code",
   "execution_count": 9,
   "id": "ef5318d9",
   "metadata": {
    "ExecuteTime": {
     "end_time": "2023-08-29T21:43:09.296363Z",
     "start_time": "2023-08-29T21:43:09.290265Z"
    },
    "tags": []
   },
   "outputs": [],
   "source": [
    "ahs_program = AnalogHamiltonianSimulation(\n",
    "    register=register, \n",
    "    hamiltonian=drive\n",
    ")"
   ]
  },
  {
   "cell_type": "markdown",
   "id": "47952b8e-1d17-41bc-9a9d-0eed6f5679b7",
   "metadata": {},
   "source": [
    "# Device emulation"
   ]
  },
  {
   "cell_type": "code",
   "execution_count": 10,
   "id": "98462dad-ec8a-4b22-acc1-47082a9f04c2",
   "metadata": {
    "tags": []
   },
   "outputs": [],
   "source": [
    "from braket.aws import AwsDevice\n",
    "from braket.devices import Devices\n",
    "qpu = AwsDevice(Devices.QuEra.Aquila)"
   ]
  },
  {
   "cell_type": "code",
   "execution_count": 11,
   "id": "3e07f06a-2797-4098-ba1a-c4a64c940aea",
   "metadata": {
    "tags": []
   },
   "outputs": [],
   "source": [
    "qpu.validate(ahs_program)"
   ]
  },
  {
   "cell_type": "code",
   "execution_count": 12,
   "id": "52fc3212-6100-4b60-916d-ecc5e851e842",
   "metadata": {
    "tags": []
   },
   "outputs": [
    {
     "data": {
      "image/png": "[encoded data removed]",
      "text/plain": [
       "<Figure size 432x288 with 1 Axes>"
      ]
     },
     "metadata": {
      "needs_background": "light"
     },
     "output_type": "display_data"
    },
    {
     "name": "stdout",
     "output_type": "stream",
     "text": [
      "CPU times: user 289 ms, sys: 407 ms, total: 696 ms\n",
      "Wall time: 13.9 s\n"
     ]
    }
   ],
   "source": [
    "%%time \n",
    "result_1D_emu = qpu.emulate(ahs_program, shots=100).result()\n",
    "show_final_avg_density(result_1D_emu)"
   ]
  },
  {
   "cell_type": "markdown",
   "id": "fc7d3074",
   "metadata": {},
   "source": [
    "## 2D checkerboard phase \n",
    "\n",
    "In two dimension, Rydberg system can exhibit the checkerboard phase, which is analogous to the $Z_2$ phase in 1D. For simplicity, here we create a $3\\times 3$ square lattice."
   ]
  },
  {
   "cell_type": "code",
   "execution_count": 13,
   "id": "22477060",
   "metadata": {
    "ExecuteTime": {
     "end_time": "2023-08-29T21:43:12.549865Z",
     "start_time": "2023-08-29T21:43:12.357234Z"
    },
    "tags": []
   },
   "outputs": [
    {
     "data": {
      "image/png": "[encoded data removed]",
      "text/plain": [
       "<Figure size 504x504 with 1 Axes>"
      ]
     },
     "metadata": {
      "needs_background": "light"
     },
     "output_type": "display_data"
    }
   ],
   "source": [
    "register_2D = AtomArrangement()\n",
    "separation = 6.7e-6  # in meters \n",
    "\n",
    "for k in range(3):\n",
    "    for l in range(3):\n",
    "        register_2D.add((k * separation, l * separation))\n",
    "\n",
    "show_register(register_2D)"
   ]
  },
  {
   "cell_type": "markdown",
   "id": "eb0fcacf",
   "metadata": {},
   "source": [
    "We will use the same driving field as the one for generating the $Z_2$ phase. We then assemble the 2D array with the driving field, and run the AHS program on the local simulator. "
   ]
  },
  {
   "cell_type": "code",
   "execution_count": 14,
   "id": "49f36b11-0b6d-40af-9a92-11f23eed2674",
   "metadata": {
    "tags": []
   },
   "outputs": [],
   "source": [
    "ahs_program_2D = AnalogHamiltonianSimulation(\n",
    "    register=register_2D, \n",
    "    hamiltonian=drive\n",
    ")"
   ]
  },
  {
   "cell_type": "code",
   "execution_count": 15,
   "id": "36b52e29-572f-4eea-a990-78775881c616",
   "metadata": {
    "tags": []
   },
   "outputs": [],
   "source": [
    "qpu.validate(ahs_program_2D)"
   ]
  },
  {
   "cell_type": "code",
   "execution_count": 16,
   "id": "415aabaf-dbc8-4315-8d32-705ffda7c977",
   "metadata": {
    "tags": []
   },
   "outputs": [
    {
     "data": {
      "image/png": "[encoded data removed]",
      "text/plain": [
       "<Figure size 432x288 with 1 Axes>"
      ]
     },
     "metadata": {
      "needs_background": "light"
     },
     "output_type": "display_data"
    },
    {
     "name": "stdout",
     "output_type": "stream",
     "text": [
      "CPU times: user 226 ms, sys: 446 ms, total: 673 ms\n",
      "Wall time: 12.9 s\n"
     ]
    }
   ],
   "source": [
    "%%time \n",
    "result_2D_emu = qpu.emulate(ahs_program_2D, shots=100).result()\n",
    "show_final_avg_density(result_2D_emu)"
   ]
  },
  {
   "cell_type": "code",
   "execution_count": null,
   "id": "98eb2861-5cb8-4432-94f5-cd95e19c884f",
   "metadata": {},
   "outputs": [],
   "source": []
  }
 ],
 "metadata": {
  "kernelspec": {
   "display_name": "Python 3",
   "language": "python",
   "name": "python3"
  },
  "language_info": {
   "codemirror_mode": {
    "name": "ipython",
    "version": 3
   },
   "file_extension": ".py",
   "mimetype": "text/x-python",
   "name": "python",
   "nbconvert_exporter": "python",
   "pygments_lexer": "ipython3",
   "version": "3.10.8"
  },
  "varInspector": {
   "cols": {
    "lenName": 16,
    "lenType": 16,
    "lenVar": 40
   },
   "kernels_config": {
    "python": {
     "delete_cmd_postfix": "",
     "delete_cmd_prefix": "del ",
     "library": "var_list.py",
     "varRefreshCmd": "print(var_dic_list())"
    },
    "r": {
     "delete_cmd_postfix": ") ",
     "delete_cmd_prefix": "rm(",
     "library": "var_list.r",
     "varRefreshCmd": "cat(var_dic_list()) "
    }
   },
   "types_to_exclude": [
    "module",
    "function",
    "builtin_function_or_method",
    "instance",
    "_Feature"
   ],
   "window_display": false
  }
 },
 "nbformat": 4,
 "nbformat_minor": 5
}
