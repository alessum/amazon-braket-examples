{
 "cells": [
  {
   "cell_type": "markdown",
   "id": "edab081c-ae05-42ca-98c9-de6e0b3329ea",
   "metadata": {
    "tags": []
   },
   "source": [
    "# Demo of Device Emulator for IQM Garnet"
   ]
  },
  {
   "cell_type": "markdown",
   "id": "b95efa13-6deb-42fe-b27d-3793c3006ddc",
   "metadata": {},
   "source": [
    "## Install the necessary branch"
   ]
  },
  {
   "cell_type": "code",
   "execution_count": 1,
   "id": "149047f4-15b0-4642-bf9a-3343d8a81e0f",
   "metadata": {
    "tags": []
   },
   "outputs": [],
   "source": [
    "# %pip install types-pkg-resources==0.1.3 pytket\n",
    "# %pip uninstall -y amazon-braket-sdk\n",
    "# %pip install git+https://github.com/Altanali/amazon-braket-sdk-python.git@f486203d8d2b00483d49649b7b78073e9ee1c238\n",
    "# %pip uninstall -y amazon-braket-default-simulator\n",
    "# %pip install git+https://github.com/amazon-braket/amazon-braket-default-simulator-python.git@c333ad708dd18142001fdc7675f538c7e4cd94c4"
   ]
  },
  {
   "cell_type": "code",
   "execution_count": 2,
   "id": "2b6a0f4b-eefb-4a05-91f6-4cabd510c9da",
   "metadata": {
    "tags": []
   },
   "outputs": [
    {
     "name": "stdout",
     "output_type": "stream",
     "text": [
      "amazon-braket-algorithm-library==1.4.13\n",
      "amazon-braket-default-simulator @ git+https://github.com/amazon-braket/amazon-braket-default-simulator-python.git@c333ad708dd18142001fdc7675f538c7e4cd94c4\n",
      "amazon-braket-pennylane-plugin==1.28.0\n",
      "amazon-braket-schemas==1.22.0\n",
      "amazon-braket-sdk @ git+https://github.com/Altanali/amazon-braket-sdk-python.git@f486203d8d2b00483d49649b7b78073e9ee1c238\n",
      "pytket==1.22.0\n",
      "Note: you may need to restart the kernel to use updated packages.\n"
     ]
    }
   ],
   "source": [
    "%pip freeze | grep \"pytket\\|amazon\""
   ]
  },
  {
   "cell_type": "code",
   "execution_count": 3,
   "id": "04f2c8a1-e7f2-47a6-bfe4-6890490f12e9",
   "metadata": {
    "tags": []
   },
   "outputs": [],
   "source": [
    "# It should output\n",
    "# amazon-braket-algorithm-library==1.4.13\n",
    "# amazon-braket-default-simulator @ git+https://github.com/amazon-braket/amazon-braket-default-simulator-python.git@c333ad708dd18142001fdc7675f538c7e4cd94c4\n",
    "# amazon-braket-pennylane-plugin==1.28.0\n",
    "# amazon-braket-schemas==1.22.0\n",
    "# amazon-braket-sdk @ git+https://github.com/Altanali/amazon-braket-sdk-python.git@f486203d8d2b00483d49649b7b78073e9ee1c238\n",
    "# pytket==1.22.0"
   ]
  },
  {
   "cell_type": "markdown",
   "id": "81499a9b-d3d2-417b-bac1-bd5f09fca9ea",
   "metadata": {},
   "source": [
    "## Define the quantum circuit we want to run from qiskit"
   ]
  },
  {
   "cell_type": "code",
   "execution_count": 4,
   "id": "2a2dc6f5-0105-4abe-9a09-7a81ffdc39e4",
   "metadata": {
    "tags": []
   },
   "outputs": [
    {
     "data": {
      "text/html": [
       "<pre style=\"word-wrap: normal;white-space: pre;background: #fff0;line-height: 1.1;font-family: &quot;Courier New&quot;,Courier,monospace\">     ┌───┐     \n",
       "q_0: ┤ H ├──■──\n",
       "     └───┘┌─┴─┐\n",
       "q_1: ─────┤ X ├\n",
       "          └───┘</pre>"
      ],
      "text/plain": [
       "     ┌───┐     \n",
       "q_0: ┤ H ├──■──\n",
       "     └───┘┌─┴─┐\n",
       "q_1: ─────┤ X ├\n",
       "          └───┘"
      ]
     },
     "execution_count": 4,
     "metadata": {},
     "output_type": "execute_result"
    }
   ],
   "source": [
    "from qiskit import QuantumCircuit\n",
    "\n",
    "def ghz(n, cnot=True):\n",
    "    circuit = QuantumCircuit(n)\n",
    "    circuit.h(0)\n",
    "    for i in range(1, n):\n",
    "        if cnot:\n",
    "            circuit.cx(0, i)\n",
    "        else:\n",
    "            circuit.cz(0, i)\n",
    "    \n",
    "    return circuit    \n",
    "\n",
    "qc = ghz(2)\n",
    "qc.draw()"
   ]
  },
  {
   "cell_type": "markdown",
   "id": "ca107bf3-4ddd-42f1-9ada-4bf44a32b3aa",
   "metadata": {},
   "source": [
    "## Convert it to braket circuit class"
   ]
  },
  {
   "cell_type": "code",
   "execution_count": 5,
   "id": "717ad042-f1a8-4dea-be1a-f9d70eccc9da",
   "metadata": {
    "tags": []
   },
   "outputs": [
    {
     "name": "stdout",
     "output_type": "stream",
     "text": [
      "T  : │  0  │  1  │\n",
      "      ┌───┐       \n",
      "q0 : ─┤ H ├───●───\n",
      "      └───┘   │   \n",
      "            ┌─┴─┐ \n",
      "q1 : ───────┤ X ├─\n",
      "            └───┘ \n",
      "T  : │  0  │  1  │\n"
     ]
    }
   ],
   "source": [
    "from qiskit_braket_provider import to_braket\n",
    "\n",
    "qc2 = to_braket(qc)\n",
    "print(qc2)"
   ]
  },
  {
   "cell_type": "markdown",
   "id": "28aa7ea6-9366-4a28-a6b5-7456ffa7dbc4",
   "metadata": {},
   "source": [
    "## Define the IQM device \n",
    "Garnet is the only device that has properly working device emulator now\n"
   ]
  },
  {
   "cell_type": "code",
   "execution_count": 6,
   "id": "1baa2f92-fea1-43b5-8642-27e8f19afe15",
   "metadata": {
    "tags": []
   },
   "outputs": [],
   "source": [
    "\n",
    "from braket.aws import AwsDevice\n",
    "from braket.devices import Devices\n",
    "\n",
    "garnet = AwsDevice(Devices.IQM.Garnet)"
   ]
  },
  {
   "cell_type": "markdown",
   "id": "620a792d-1ee4-48d1-a98e-4a21d5138e53",
   "metadata": {},
   "source": [
    "## Run emulation"
   ]
  },
  {
   "cell_type": "code",
   "execution_count": 7,
   "id": "7da5206e-12ab-4551-aec7-e17dcf8636f1",
   "metadata": {
    "tags": []
   },
   "outputs": [
    {
     "name": "stdout",
     "output_type": "stream",
     "text": [
      "Counter({'11': 502, '00': 490, '01': 4, '10': 4})\n",
      "[1, 4]\n"
     ]
    }
   ],
   "source": [
    "result_emu = garnet.emulate(qc2, shots=1000).result()\n",
    "print(result_emu.measurement_counts)\n",
    "\n",
    "print(result_emu.measured_qubits)"
   ]
  },
  {
   "cell_type": "markdown",
   "id": "83828bdf-9f36-4d54-9f58-0864edc6ccb5",
   "metadata": {},
   "source": [
    "The presence of 01, 10 indicates the presence of noise. Also note the label for the measured qubits, see below"
   ]
  },
  {
   "cell_type": "markdown",
   "id": "968e80de-b1f4-4f19-baef-1941822e6b02",
   "metadata": {},
   "source": [
    "## Inspect the emulated circuit\n",
    "\n",
    "### A few things to note\n",
    "1. The circuit has been nativized to use the native gates of Garnet, namely PRX and CZ gates\n",
    "2. The circuit has been compiled based on the device geometry\n",
    "3. Each gate has been appended with certain noise channels"
   ]
  },
  {
   "cell_type": "code",
   "execution_count": 8,
   "id": "17307216-1125-4726-9c74-ce467e19315d",
   "metadata": {
    "tags": []
   },
   "outputs": [
    {
     "name": "stdout",
     "output_type": "stream",
     "text": [
      "T  : │                                0                                 │          1           │                                2                                │\n",
      "      ┌─────────────────┐ ┌────────────┐ ┌────────────┐ ┌─────────────┐  ┌───┐ ┌──────────────┐ ┌─────────────────┐ ┌────────────┐ ┌────────────┐ ┌─────────────┐ \n",
      "q1 : ─┤ PRx(1.57, 4.71) ├─┤ AD(0.0011) ├─┤ PD(0.0022) ├─┤ DEPO(0.001) ├──┤ Z ├─┤ DEPO(0.0073) ├─┤ PRx(1.57, 1.57) ├─┤ AD(0.0011) ├─┤ PD(0.0022) ├─┤ DEPO(0.001) ├─\n",
      "      └─────────────────┘ └────────────┘ └────────────┘ └─────────────┘  └─┬─┘ └──────┬───────┘ └─────────────────┘ └────────────┘ └────────────┘ └─────────────┘ \n",
      "      ┌─────────────────┐ ┌────────────┐ ┌────────────┐ ┌──────────────┐   │   ┌──────┴───────┐                                                                   \n",
      "q4 : ─┤ PRx(1.57, 4.71) ├─┤ AD(0.0017) ├─┤ PD(0.0024) ├─┤ DEPO(0.0013) ├───●───┤ DEPO(0.0073) ├───────────────────────────────────────────────────────────────────\n",
      "      └─────────────────┘ └────────────┘ └────────────┘ └──────────────┘       └──────────────┘                                                                   \n",
      "T  : │                                0                                 │          1           │                                2                                │\n"
     ]
    }
   ],
   "source": [
    "qc3 = garnet.run_passes(qc2)\n",
    "print(qc3)\n"
   ]
  },
  {
   "cell_type": "markdown",
   "id": "6e82d488-1bb7-4ad8-8524-0fc5d230ad73",
   "metadata": {},
   "source": [
    "# Another example of ghz with CZ gate"
   ]
  },
  {
   "cell_type": "code",
   "execution_count": 9,
   "id": "9bc41fc7-a5ac-4af9-8b09-69ab932ec990",
   "metadata": {
    "tags": []
   },
   "outputs": [
    {
     "data": {
      "text/html": [
       "<pre style=\"word-wrap: normal;white-space: pre;background: #fff0;line-height: 1.1;font-family: &quot;Courier New&quot;,Courier,monospace\">     ┌───┐         \n",
       "q_0: ┤ H ├─■──■──■─\n",
       "     └───┘ │  │  │ \n",
       "q_1: ──────■──┼──┼─\n",
       "              │  │ \n",
       "q_2: ─────────■──┼─\n",
       "                 │ \n",
       "q_3: ────────────■─\n",
       "                   </pre>"
      ],
      "text/plain": [
       "     ┌───┐         \n",
       "q_0: ┤ H ├─■──■──■─\n",
       "     └───┘ │  │  │ \n",
       "q_1: ──────■──┼──┼─\n",
       "              │  │ \n",
       "q_2: ─────────■──┼─\n",
       "                 │ \n",
       "q_3: ────────────■─\n",
       "                   "
      ]
     },
     "execution_count": 9,
     "metadata": {},
     "output_type": "execute_result"
    }
   ],
   "source": [
    "qc = ghz(4, cnot=False)\n",
    "qc.draw()"
   ]
  },
  {
   "cell_type": "code",
   "execution_count": 10,
   "id": "a3488c54-3c83-4f12-8532-5f4c4858b331",
   "metadata": {
    "tags": []
   },
   "outputs": [
    {
     "name": "stdout",
     "output_type": "stream",
     "text": [
      "T  : │  0  │  1  │  2  │  3  │\n",
      "      ┌───┐                   \n",
      "q0 : ─┤ H ├───●─────●─────●───\n",
      "      └───┘   │     │     │   \n",
      "            ┌─┴─┐   │     │   \n",
      "q1 : ───────┤ Z ├───┼─────┼───\n",
      "            └───┘   │     │   \n",
      "                  ┌─┴─┐   │   \n",
      "q2 : ─────────────┤ Z ├───┼───\n",
      "                  └───┘   │   \n",
      "                        ┌─┴─┐ \n",
      "q3 : ───────────────────┤ Z ├─\n",
      "                        └───┘ \n",
      "T  : │  0  │  1  │  2  │  3  │\n"
     ]
    }
   ],
   "source": [
    "qc2 = to_braket(qc, basis_gates=[\"cz\", \"h\"])\n",
    "print(qc2)"
   ]
  },
  {
   "cell_type": "code",
   "execution_count": 11,
   "id": "0ad24e0f-1aaf-473d-86f8-8b5bb16902bf",
   "metadata": {
    "tags": []
   },
   "outputs": [
    {
     "name": "stdout",
     "output_type": "stream",
     "text": [
      "T  : │                                0                                 │          1           │          2           │          3          │\n",
      "                                                                         ┌───┐ ┌──────────────┐                                              \n",
      "q1 : ────────────────────────────────────────────────────────────────────┤ Z ├─┤ DEPO(0.0073) ├──────────────────────────────────────────────\n",
      "                                                                         └─┬─┘ └──────┬───────┘                                              \n",
      "      ┌─────────────────┐ ┌────────────┐ ┌────────────┐ ┌──────────────┐   │   ┌──────┴───────┐       ┌──────────────┐       ┌─────────────┐ \n",
      "q4 : ─┤ PRx(1.57, 4.71) ├─┤ AD(0.0017) ├─┤ PD(0.0024) ├─┤ DEPO(0.0013) ├───●───┤ DEPO(0.0073) ├───●───┤ DEPO(0.0083) ├───●───┤ DEPO(0.024) ├─\n",
      "      └─────────────────┘ └────────────┘ └────────────┘ └──────────────┘       └──────────────┘   │   └──────┬───────┘   │   └──────┬──────┘ \n",
      "                                                                                                ┌─┴─┐ ┌──────┴───────┐   │          │        \n",
      "q5 : ───────────────────────────────────────────────────────────────────────────────────────────┤ Z ├─┤ DEPO(0.0083) ├───┼──────────┼────────\n",
      "                                                                                                └───┘ └──────────────┘   │          │        \n",
      "                                                                                                                       ┌─┴─┐ ┌──────┴──────┐ \n",
      "q9 : ──────────────────────────────────────────────────────────────────────────────────────────────────────────────────┤ Z ├─┤ DEPO(0.024) ├─\n",
      "                                                                                                                       └───┘ └─────────────┘ \n",
      "T  : │                                0                                 │          1           │          2           │          3          │\n"
     ]
    }
   ],
   "source": [
    "qc3 = garnet.run_passes(qc2)\n",
    "print(qc3)\n"
   ]
  },
  {
   "cell_type": "code",
   "execution_count": 12,
   "id": "160c5553-28b7-429c-a216-c14f2b5cfd39",
   "metadata": {
    "tags": []
   },
   "outputs": [
    {
     "name": "stdout",
     "output_type": "stream",
     "text": [
      "Counter({'0000': 501, '0100': 475, '0101': 9, '0001': 8, '0110': 3, '0010': 3, '1100': 1})\n",
      "[1, 4, 5, 9]\n"
     ]
    }
   ],
   "source": [
    "result_emu = garnet.emulate(qc2, shots=1000).result()\n",
    "print(result_emu.measurement_counts)\n",
    "\n",
    "print(result_emu.measured_qubits)"
   ]
  },
  {
   "cell_type": "code",
   "execution_count": null,
   "id": "d1469f0c-78e9-4d16-a74a-e49f0fab8f26",
   "metadata": {},
   "outputs": [],
   "source": []
  },
  {
   "cell_type": "code",
   "execution_count": null,
   "id": "dccf5444-e4db-4342-a032-8b3eb23f796d",
   "metadata": {},
   "outputs": [],
   "source": []
  },
  {
   "cell_type": "code",
   "execution_count": null,
   "id": "34882f52-06b4-4900-89b4-9f6e8126e082",
   "metadata": {},
   "outputs": [],
   "source": []
  }
 ],
 "metadata": {
  "kernelspec": {
   "display_name": "conda_braket",
   "language": "python",
   "name": "conda_braket"
  },
  "language_info": {
   "codemirror_mode": {
    "name": "ipython",
    "version": 3
   },
   "file_extension": ".py",
   "mimetype": "text/x-python",
   "name": "python",
   "nbconvert_exporter": "python",
   "pygments_lexer": "ipython3",
   "version": "3.10.14"
  }
 },
 "nbformat": 4,
 "nbformat_minor": 5
}
